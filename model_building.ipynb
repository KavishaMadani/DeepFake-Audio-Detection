{
  "nbformat": 4,
  "nbformat_minor": 0,
  "metadata": {
    "colab": {
      "provenance": []
    },
    "kernelspec": {
      "name": "python3",
      "display_name": "Python 3"
    },
    "language_info": {
      "name": "python"
    }
  },
  "cells": [
    {
      "cell_type": "code",
      "source": [
        "pip install xgboost"
      ],
      "metadata": {
        "colab": {
          "base_uri": "https://localhost:8080/"
        },
        "id": "cxhJe2Vy9saT",
        "outputId": "6e808a0c-4121-4ed7-ae70-dd736926377c"
      },
      "execution_count": null,
      "outputs": [
        {
          "output_type": "stream",
          "name": "stdout",
          "text": [
            "Requirement already satisfied: xgboost in /usr/local/lib/python3.10/dist-packages (2.0.3)\n",
            "Requirement already satisfied: numpy in /usr/local/lib/python3.10/dist-packages (from xgboost) (1.25.2)\n",
            "Requirement already satisfied: scipy in /usr/local/lib/python3.10/dist-packages (from xgboost) (1.11.4)\n"
          ]
        }
      ]
    },
    {
      "cell_type": "code",
      "source": [
        "import pandas as pd\n",
        "import numpy as np\n",
        "from sklearn.model_selection import train_test_split\n",
        "from sklearn.ensemble import RandomForestClassifier\n",
        "from sklearn.metrics import classification_report, accuracy_score\n",
        "from sklearn.ensemble import GradientBoostingClassifier\n",
        "from sklearn.ensemble import AdaBoostClassifier\n",
        "from xgboost import XGBClassifier\n",
        "from sklearn.preprocessing import LabelEncoder"
      ],
      "metadata": {
        "id": "jaylRUpt37HR"
      },
      "execution_count": null,
      "outputs": []
    },
    {
      "cell_type": "code",
      "source": [
        "df=pd.read_csv(\"audio_features.csv\")\n",
        "df"
      ],
      "metadata": {
        "colab": {
          "base_uri": "https://localhost:8080/",
          "height": 444
        },
        "id": "-q5uS9lm37Bd",
        "outputId": "b2262b69-666a-4323-828c-0f789cbc7668"
      },
      "execution_count": null,
      "outputs": [
        {
          "output_type": "execute_result",
          "data": {
            "text/plain": [
              "                                                filename  zero_crossing_rate  \\\n",
              "0        file1.wav_16k.wav_norm.wav_mono.wav_silence.wav            0.137460   \n",
              "1       file10.wav_16k.wav_norm.wav_mono.wav_silence.wav            0.154065   \n",
              "2      file100.wav_16k.wav_norm.wav_mono.wav_silence.wav            0.095206   \n",
              "3      file1000.wav_16k.wav_norm.wav_mono.wav_silence...            0.188090   \n",
              "4      file10000.wav_16k.wav_norm.wav_mono.wav_silenc...            0.193106   \n",
              "...                                                  ...                 ...   \n",
              "69293  file9976.mp3.wav_16k.wav_norm.wav_mono.wav_sil...            0.175867   \n",
              "69294  file9986.mp3.wav_16k.wav_norm.wav_mono.wav_sil...            0.092460   \n",
              "69295  file9991.mp3.wav_16k.wav_norm.wav_mono.wav_sil...            0.090450   \n",
              "69296  file9992.wav_16k.wav_norm.wav_mono.wav_silence...            0.188666   \n",
              "69297  file9993.mp3.wav_16k.wav_norm.wav_mono.wav_sil...            0.110563   \n",
              "\n",
              "        rms_energy  signal_mean   signal_std  amplitude_envelope  \\\n",
              "0      4134.410645     0.238595  4777.139160         2894.356445   \n",
              "1      4390.338867    -5.655016  5254.524902         3324.125244   \n",
              "2      4307.233398     0.083535  4895.892578         3066.934570   \n",
              "3      2733.269775     0.386014  3238.413330         1859.789307   \n",
              "4      4242.850098     0.979406  4707.291504         3028.382812   \n",
              "...            ...          ...          ...                 ...   \n",
              "69293  5456.414062     2.369928  5895.954102         4045.685059   \n",
              "69294  6355.379883  1219.500122  6627.966309         4569.830078   \n",
              "69295  7261.250488   -25.698208  8061.187500         5678.382812   \n",
              "69296  6305.985352     2.041852  7054.541992         4516.195801   \n",
              "69297  5449.059570   -32.179836  5984.817383         4040.553955   \n",
              "\n",
              "       spectral_centroid  spectral_bandwidth  spectral_rolloff  skewness  ...  \\\n",
              "0            1822.402563         1500.086348       3311.115506  0.621559  ...   \n",
              "1            1768.520360         1465.244396       3338.242828 -0.257526  ...   \n",
              "2            1446.031905         1533.366622       2730.610795 -0.894788  ...   \n",
              "3            2033.304687         1511.028950       3504.194631  1.160901  ...   \n",
              "4            2081.626495         1411.119670       3395.873092  0.659361  ...   \n",
              "...                  ...                 ...               ...       ...  ...   \n",
              "69293        2014.476307         1695.701148       3920.343137 -0.353003  ...   \n",
              "69294        1239.453419         1192.801579       2202.387972  0.866452  ...   \n",
              "69295        1384.246640         1221.333776       2517.071759 -0.480945  ...   \n",
              "69296        1613.781999         1393.188249       2994.455645  0.135941  ...   \n",
              "69297        1606.121514         1568.273306       3178.645833 -0.213199  ...   \n",
              "\n",
              "         mfcc_12    mfcc_13    mfcc_14    mfcc_15   mfcc_16    mfcc_17  \\\n",
              "0      -7.984339   3.527972 -16.490644 -11.739811 -7.235430 -10.607544   \n",
              "1      -3.333730   0.747620  -4.416759   6.523121 -6.339976   2.330548   \n",
              "2      -1.045881  -8.296654   7.702209 -10.432310  1.070562  -4.160299   \n",
              "3      -6.387084  -4.906898 -14.497639 -13.718105 -3.959789  -8.347791   \n",
              "4     -13.368902   0.640402 -20.105606 -10.947557 -9.520848  -4.379232   \n",
              "...          ...        ...        ...        ...       ...        ...   \n",
              "69293  -5.649595  -7.496578  -3.368686 -15.716028  4.014661 -18.087637   \n",
              "69294  -3.680366 -12.802091  -0.114138 -14.733644  5.416863 -11.527183   \n",
              "69295  -4.121984   3.032112  -2.240477   5.433537  1.417942   3.506669   \n",
              "69296 -17.992008   4.239638 -10.878890 -15.818137  0.319991 -19.100618   \n",
              "69297   0.210945  -6.714155   4.504560  -4.484378 -0.540621   0.593892   \n",
              "\n",
              "         mfcc_18    mfcc_19    mfcc_20  label  \n",
              "0      -7.613899 -11.456425  -7.058982   real  \n",
              "1      -1.422495  -2.984604   2.761274   real  \n",
              "2       2.941002  -7.965646   0.452805   real  \n",
              "3     -10.312110  -7.487181  -7.729549   real  \n",
              "4       0.532663  -9.983327  -0.611973   real  \n",
              "...          ...        ...        ...    ...  \n",
              "69293   3.279789  -9.086059  -0.123569   fake  \n",
              "69294   0.801583  -3.775925  -1.670324   fake  \n",
              "69295  -6.886306  -8.497355  -7.166287   fake  \n",
              "69296  -5.788297  -9.580729 -13.157767   fake  \n",
              "69297  -2.942067 -10.184579   1.884007   fake  \n",
              "\n",
              "[69298 rows x 32 columns]"
            ],
            "text/html": [
              "\n",
              "  <div id=\"df-2efd7117-04aa-4177-88d6-af5ca1b3d16c\" class=\"colab-df-container\">\n",
              "    <div>\n",
              "<style scoped>\n",
              "    .dataframe tbody tr th:only-of-type {\n",
              "        vertical-align: middle;\n",
              "    }\n",
              "\n",
              "    .dataframe tbody tr th {\n",
              "        vertical-align: top;\n",
              "    }\n",
              "\n",
              "    .dataframe thead th {\n",
              "        text-align: right;\n",
              "    }\n",
              "</style>\n",
              "<table border=\"1\" class=\"dataframe\">\n",
              "  <thead>\n",
              "    <tr style=\"text-align: right;\">\n",
              "      <th></th>\n",
              "      <th>filename</th>\n",
              "      <th>zero_crossing_rate</th>\n",
              "      <th>rms_energy</th>\n",
              "      <th>signal_mean</th>\n",
              "      <th>signal_std</th>\n",
              "      <th>amplitude_envelope</th>\n",
              "      <th>spectral_centroid</th>\n",
              "      <th>spectral_bandwidth</th>\n",
              "      <th>spectral_rolloff</th>\n",
              "      <th>skewness</th>\n",
              "      <th>...</th>\n",
              "      <th>mfcc_12</th>\n",
              "      <th>mfcc_13</th>\n",
              "      <th>mfcc_14</th>\n",
              "      <th>mfcc_15</th>\n",
              "      <th>mfcc_16</th>\n",
              "      <th>mfcc_17</th>\n",
              "      <th>mfcc_18</th>\n",
              "      <th>mfcc_19</th>\n",
              "      <th>mfcc_20</th>\n",
              "      <th>label</th>\n",
              "    </tr>\n",
              "  </thead>\n",
              "  <tbody>\n",
              "    <tr>\n",
              "      <th>0</th>\n",
              "      <td>file1.wav_16k.wav_norm.wav_mono.wav_silence.wav</td>\n",
              "      <td>0.137460</td>\n",
              "      <td>4134.410645</td>\n",
              "      <td>0.238595</td>\n",
              "      <td>4777.139160</td>\n",
              "      <td>2894.356445</td>\n",
              "      <td>1822.402563</td>\n",
              "      <td>1500.086348</td>\n",
              "      <td>3311.115506</td>\n",
              "      <td>0.621559</td>\n",
              "      <td>...</td>\n",
              "      <td>-7.984339</td>\n",
              "      <td>3.527972</td>\n",
              "      <td>-16.490644</td>\n",
              "      <td>-11.739811</td>\n",
              "      <td>-7.235430</td>\n",
              "      <td>-10.607544</td>\n",
              "      <td>-7.613899</td>\n",
              "      <td>-11.456425</td>\n",
              "      <td>-7.058982</td>\n",
              "      <td>real</td>\n",
              "    </tr>\n",
              "    <tr>\n",
              "      <th>1</th>\n",
              "      <td>file10.wav_16k.wav_norm.wav_mono.wav_silence.wav</td>\n",
              "      <td>0.154065</td>\n",
              "      <td>4390.338867</td>\n",
              "      <td>-5.655016</td>\n",
              "      <td>5254.524902</td>\n",
              "      <td>3324.125244</td>\n",
              "      <td>1768.520360</td>\n",
              "      <td>1465.244396</td>\n",
              "      <td>3338.242828</td>\n",
              "      <td>-0.257526</td>\n",
              "      <td>...</td>\n",
              "      <td>-3.333730</td>\n",
              "      <td>0.747620</td>\n",
              "      <td>-4.416759</td>\n",
              "      <td>6.523121</td>\n",
              "      <td>-6.339976</td>\n",
              "      <td>2.330548</td>\n",
              "      <td>-1.422495</td>\n",
              "      <td>-2.984604</td>\n",
              "      <td>2.761274</td>\n",
              "      <td>real</td>\n",
              "    </tr>\n",
              "    <tr>\n",
              "      <th>2</th>\n",
              "      <td>file100.wav_16k.wav_norm.wav_mono.wav_silence.wav</td>\n",
              "      <td>0.095206</td>\n",
              "      <td>4307.233398</td>\n",
              "      <td>0.083535</td>\n",
              "      <td>4895.892578</td>\n",
              "      <td>3066.934570</td>\n",
              "      <td>1446.031905</td>\n",
              "      <td>1533.366622</td>\n",
              "      <td>2730.610795</td>\n",
              "      <td>-0.894788</td>\n",
              "      <td>...</td>\n",
              "      <td>-1.045881</td>\n",
              "      <td>-8.296654</td>\n",
              "      <td>7.702209</td>\n",
              "      <td>-10.432310</td>\n",
              "      <td>1.070562</td>\n",
              "      <td>-4.160299</td>\n",
              "      <td>2.941002</td>\n",
              "      <td>-7.965646</td>\n",
              "      <td>0.452805</td>\n",
              "      <td>real</td>\n",
              "    </tr>\n",
              "    <tr>\n",
              "      <th>3</th>\n",
              "      <td>file1000.wav_16k.wav_norm.wav_mono.wav_silence...</td>\n",
              "      <td>0.188090</td>\n",
              "      <td>2733.269775</td>\n",
              "      <td>0.386014</td>\n",
              "      <td>3238.413330</td>\n",
              "      <td>1859.789307</td>\n",
              "      <td>2033.304687</td>\n",
              "      <td>1511.028950</td>\n",
              "      <td>3504.194631</td>\n",
              "      <td>1.160901</td>\n",
              "      <td>...</td>\n",
              "      <td>-6.387084</td>\n",
              "      <td>-4.906898</td>\n",
              "      <td>-14.497639</td>\n",
              "      <td>-13.718105</td>\n",
              "      <td>-3.959789</td>\n",
              "      <td>-8.347791</td>\n",
              "      <td>-10.312110</td>\n",
              "      <td>-7.487181</td>\n",
              "      <td>-7.729549</td>\n",
              "      <td>real</td>\n",
              "    </tr>\n",
              "    <tr>\n",
              "      <th>4</th>\n",
              "      <td>file10000.wav_16k.wav_norm.wav_mono.wav_silenc...</td>\n",
              "      <td>0.193106</td>\n",
              "      <td>4242.850098</td>\n",
              "      <td>0.979406</td>\n",
              "      <td>4707.291504</td>\n",
              "      <td>3028.382812</td>\n",
              "      <td>2081.626495</td>\n",
              "      <td>1411.119670</td>\n",
              "      <td>3395.873092</td>\n",
              "      <td>0.659361</td>\n",
              "      <td>...</td>\n",
              "      <td>-13.368902</td>\n",
              "      <td>0.640402</td>\n",
              "      <td>-20.105606</td>\n",
              "      <td>-10.947557</td>\n",
              "      <td>-9.520848</td>\n",
              "      <td>-4.379232</td>\n",
              "      <td>0.532663</td>\n",
              "      <td>-9.983327</td>\n",
              "      <td>-0.611973</td>\n",
              "      <td>real</td>\n",
              "    </tr>\n",
              "    <tr>\n",
              "      <th>...</th>\n",
              "      <td>...</td>\n",
              "      <td>...</td>\n",
              "      <td>...</td>\n",
              "      <td>...</td>\n",
              "      <td>...</td>\n",
              "      <td>...</td>\n",
              "      <td>...</td>\n",
              "      <td>...</td>\n",
              "      <td>...</td>\n",
              "      <td>...</td>\n",
              "      <td>...</td>\n",
              "      <td>...</td>\n",
              "      <td>...</td>\n",
              "      <td>...</td>\n",
              "      <td>...</td>\n",
              "      <td>...</td>\n",
              "      <td>...</td>\n",
              "      <td>...</td>\n",
              "      <td>...</td>\n",
              "      <td>...</td>\n",
              "      <td>...</td>\n",
              "    </tr>\n",
              "    <tr>\n",
              "      <th>69293</th>\n",
              "      <td>file9976.mp3.wav_16k.wav_norm.wav_mono.wav_sil...</td>\n",
              "      <td>0.175867</td>\n",
              "      <td>5456.414062</td>\n",
              "      <td>2.369928</td>\n",
              "      <td>5895.954102</td>\n",
              "      <td>4045.685059</td>\n",
              "      <td>2014.476307</td>\n",
              "      <td>1695.701148</td>\n",
              "      <td>3920.343137</td>\n",
              "      <td>-0.353003</td>\n",
              "      <td>...</td>\n",
              "      <td>-5.649595</td>\n",
              "      <td>-7.496578</td>\n",
              "      <td>-3.368686</td>\n",
              "      <td>-15.716028</td>\n",
              "      <td>4.014661</td>\n",
              "      <td>-18.087637</td>\n",
              "      <td>3.279789</td>\n",
              "      <td>-9.086059</td>\n",
              "      <td>-0.123569</td>\n",
              "      <td>fake</td>\n",
              "    </tr>\n",
              "    <tr>\n",
              "      <th>69294</th>\n",
              "      <td>file9986.mp3.wav_16k.wav_norm.wav_mono.wav_sil...</td>\n",
              "      <td>0.092460</td>\n",
              "      <td>6355.379883</td>\n",
              "      <td>1219.500122</td>\n",
              "      <td>6627.966309</td>\n",
              "      <td>4569.830078</td>\n",
              "      <td>1239.453419</td>\n",
              "      <td>1192.801579</td>\n",
              "      <td>2202.387972</td>\n",
              "      <td>0.866452</td>\n",
              "      <td>...</td>\n",
              "      <td>-3.680366</td>\n",
              "      <td>-12.802091</td>\n",
              "      <td>-0.114138</td>\n",
              "      <td>-14.733644</td>\n",
              "      <td>5.416863</td>\n",
              "      <td>-11.527183</td>\n",
              "      <td>0.801583</td>\n",
              "      <td>-3.775925</td>\n",
              "      <td>-1.670324</td>\n",
              "      <td>fake</td>\n",
              "    </tr>\n",
              "    <tr>\n",
              "      <th>69295</th>\n",
              "      <td>file9991.mp3.wav_16k.wav_norm.wav_mono.wav_sil...</td>\n",
              "      <td>0.090450</td>\n",
              "      <td>7261.250488</td>\n",
              "      <td>-25.698208</td>\n",
              "      <td>8061.187500</td>\n",
              "      <td>5678.382812</td>\n",
              "      <td>1384.246640</td>\n",
              "      <td>1221.333776</td>\n",
              "      <td>2517.071759</td>\n",
              "      <td>-0.480945</td>\n",
              "      <td>...</td>\n",
              "      <td>-4.121984</td>\n",
              "      <td>3.032112</td>\n",
              "      <td>-2.240477</td>\n",
              "      <td>5.433537</td>\n",
              "      <td>1.417942</td>\n",
              "      <td>3.506669</td>\n",
              "      <td>-6.886306</td>\n",
              "      <td>-8.497355</td>\n",
              "      <td>-7.166287</td>\n",
              "      <td>fake</td>\n",
              "    </tr>\n",
              "    <tr>\n",
              "      <th>69296</th>\n",
              "      <td>file9992.wav_16k.wav_norm.wav_mono.wav_silence...</td>\n",
              "      <td>0.188666</td>\n",
              "      <td>6305.985352</td>\n",
              "      <td>2.041852</td>\n",
              "      <td>7054.541992</td>\n",
              "      <td>4516.195801</td>\n",
              "      <td>1613.781999</td>\n",
              "      <td>1393.188249</td>\n",
              "      <td>2994.455645</td>\n",
              "      <td>0.135941</td>\n",
              "      <td>...</td>\n",
              "      <td>-17.992008</td>\n",
              "      <td>4.239638</td>\n",
              "      <td>-10.878890</td>\n",
              "      <td>-15.818137</td>\n",
              "      <td>0.319991</td>\n",
              "      <td>-19.100618</td>\n",
              "      <td>-5.788297</td>\n",
              "      <td>-9.580729</td>\n",
              "      <td>-13.157767</td>\n",
              "      <td>fake</td>\n",
              "    </tr>\n",
              "    <tr>\n",
              "      <th>69297</th>\n",
              "      <td>file9993.mp3.wav_16k.wav_norm.wav_mono.wav_sil...</td>\n",
              "      <td>0.110563</td>\n",
              "      <td>5449.059570</td>\n",
              "      <td>-32.179836</td>\n",
              "      <td>5984.817383</td>\n",
              "      <td>4040.553955</td>\n",
              "      <td>1606.121514</td>\n",
              "      <td>1568.273306</td>\n",
              "      <td>3178.645833</td>\n",
              "      <td>-0.213199</td>\n",
              "      <td>...</td>\n",
              "      <td>0.210945</td>\n",
              "      <td>-6.714155</td>\n",
              "      <td>4.504560</td>\n",
              "      <td>-4.484378</td>\n",
              "      <td>-0.540621</td>\n",
              "      <td>0.593892</td>\n",
              "      <td>-2.942067</td>\n",
              "      <td>-10.184579</td>\n",
              "      <td>1.884007</td>\n",
              "      <td>fake</td>\n",
              "    </tr>\n",
              "  </tbody>\n",
              "</table>\n",
              "<p>69298 rows × 32 columns</p>\n",
              "</div>\n",
              "    <div class=\"colab-df-buttons\">\n",
              "\n",
              "  <div class=\"colab-df-container\">\n",
              "    <button class=\"colab-df-convert\" onclick=\"convertToInteractive('df-2efd7117-04aa-4177-88d6-af5ca1b3d16c')\"\n",
              "            title=\"Convert this dataframe to an interactive table.\"\n",
              "            style=\"display:none;\">\n",
              "\n",
              "  <svg xmlns=\"http://www.w3.org/2000/svg\" height=\"24px\" viewBox=\"0 -960 960 960\">\n",
              "    <path d=\"M120-120v-720h720v720H120Zm60-500h600v-160H180v160Zm220 220h160v-160H400v160Zm0 220h160v-160H400v160ZM180-400h160v-160H180v160Zm440 0h160v-160H620v160ZM180-180h160v-160H180v160Zm440 0h160v-160H620v160Z\"/>\n",
              "  </svg>\n",
              "    </button>\n",
              "\n",
              "  <style>\n",
              "    .colab-df-container {\n",
              "      display:flex;\n",
              "      gap: 12px;\n",
              "    }\n",
              "\n",
              "    .colab-df-convert {\n",
              "      background-color: #E8F0FE;\n",
              "      border: none;\n",
              "      border-radius: 50%;\n",
              "      cursor: pointer;\n",
              "      display: none;\n",
              "      fill: #1967D2;\n",
              "      height: 32px;\n",
              "      padding: 0 0 0 0;\n",
              "      width: 32px;\n",
              "    }\n",
              "\n",
              "    .colab-df-convert:hover {\n",
              "      background-color: #E2EBFA;\n",
              "      box-shadow: 0px 1px 2px rgba(60, 64, 67, 0.3), 0px 1px 3px 1px rgba(60, 64, 67, 0.15);\n",
              "      fill: #174EA6;\n",
              "    }\n",
              "\n",
              "    .colab-df-buttons div {\n",
              "      margin-bottom: 4px;\n",
              "    }\n",
              "\n",
              "    [theme=dark] .colab-df-convert {\n",
              "      background-color: #3B4455;\n",
              "      fill: #D2E3FC;\n",
              "    }\n",
              "\n",
              "    [theme=dark] .colab-df-convert:hover {\n",
              "      background-color: #434B5C;\n",
              "      box-shadow: 0px 1px 3px 1px rgba(0, 0, 0, 0.15);\n",
              "      filter: drop-shadow(0px 1px 2px rgba(0, 0, 0, 0.3));\n",
              "      fill: #FFFFFF;\n",
              "    }\n",
              "  </style>\n",
              "\n",
              "    <script>\n",
              "      const buttonEl =\n",
              "        document.querySelector('#df-2efd7117-04aa-4177-88d6-af5ca1b3d16c button.colab-df-convert');\n",
              "      buttonEl.style.display =\n",
              "        google.colab.kernel.accessAllowed ? 'block' : 'none';\n",
              "\n",
              "      async function convertToInteractive(key) {\n",
              "        const element = document.querySelector('#df-2efd7117-04aa-4177-88d6-af5ca1b3d16c');\n",
              "        const dataTable =\n",
              "          await google.colab.kernel.invokeFunction('convertToInteractive',\n",
              "                                                    [key], {});\n",
              "        if (!dataTable) return;\n",
              "\n",
              "        const docLinkHtml = 'Like what you see? Visit the ' +\n",
              "          '<a target=\"_blank\" href=https://colab.research.google.com/notebooks/data_table.ipynb>data table notebook</a>'\n",
              "          + ' to learn more about interactive tables.';\n",
              "        element.innerHTML = '';\n",
              "        dataTable['output_type'] = 'display_data';\n",
              "        await google.colab.output.renderOutput(dataTable, element);\n",
              "        const docLink = document.createElement('div');\n",
              "        docLink.innerHTML = docLinkHtml;\n",
              "        element.appendChild(docLink);\n",
              "      }\n",
              "    </script>\n",
              "  </div>\n",
              "\n",
              "\n",
              "<div id=\"df-7b0c1fb7-5ed2-408e-b30e-feae9a379d24\">\n",
              "  <button class=\"colab-df-quickchart\" onclick=\"quickchart('df-7b0c1fb7-5ed2-408e-b30e-feae9a379d24')\"\n",
              "            title=\"Suggest charts\"\n",
              "            style=\"display:none;\">\n",
              "\n",
              "<svg xmlns=\"http://www.w3.org/2000/svg\" height=\"24px\"viewBox=\"0 0 24 24\"\n",
              "     width=\"24px\">\n",
              "    <g>\n",
              "        <path d=\"M19 3H5c-1.1 0-2 .9-2 2v14c0 1.1.9 2 2 2h14c1.1 0 2-.9 2-2V5c0-1.1-.9-2-2-2zM9 17H7v-7h2v7zm4 0h-2V7h2v10zm4 0h-2v-4h2v4z\"/>\n",
              "    </g>\n",
              "</svg>\n",
              "  </button>\n",
              "\n",
              "<style>\n",
              "  .colab-df-quickchart {\n",
              "      --bg-color: #E8F0FE;\n",
              "      --fill-color: #1967D2;\n",
              "      --hover-bg-color: #E2EBFA;\n",
              "      --hover-fill-color: #174EA6;\n",
              "      --disabled-fill-color: #AAA;\n",
              "      --disabled-bg-color: #DDD;\n",
              "  }\n",
              "\n",
              "  [theme=dark] .colab-df-quickchart {\n",
              "      --bg-color: #3B4455;\n",
              "      --fill-color: #D2E3FC;\n",
              "      --hover-bg-color: #434B5C;\n",
              "      --hover-fill-color: #FFFFFF;\n",
              "      --disabled-bg-color: #3B4455;\n",
              "      --disabled-fill-color: #666;\n",
              "  }\n",
              "\n",
              "  .colab-df-quickchart {\n",
              "    background-color: var(--bg-color);\n",
              "    border: none;\n",
              "    border-radius: 50%;\n",
              "    cursor: pointer;\n",
              "    display: none;\n",
              "    fill: var(--fill-color);\n",
              "    height: 32px;\n",
              "    padding: 0;\n",
              "    width: 32px;\n",
              "  }\n",
              "\n",
              "  .colab-df-quickchart:hover {\n",
              "    background-color: var(--hover-bg-color);\n",
              "    box-shadow: 0 1px 2px rgba(60, 64, 67, 0.3), 0 1px 3px 1px rgba(60, 64, 67, 0.15);\n",
              "    fill: var(--button-hover-fill-color);\n",
              "  }\n",
              "\n",
              "  .colab-df-quickchart-complete:disabled,\n",
              "  .colab-df-quickchart-complete:disabled:hover {\n",
              "    background-color: var(--disabled-bg-color);\n",
              "    fill: var(--disabled-fill-color);\n",
              "    box-shadow: none;\n",
              "  }\n",
              "\n",
              "  .colab-df-spinner {\n",
              "    border: 2px solid var(--fill-color);\n",
              "    border-color: transparent;\n",
              "    border-bottom-color: var(--fill-color);\n",
              "    animation:\n",
              "      spin 1s steps(1) infinite;\n",
              "  }\n",
              "\n",
              "  @keyframes spin {\n",
              "    0% {\n",
              "      border-color: transparent;\n",
              "      border-bottom-color: var(--fill-color);\n",
              "      border-left-color: var(--fill-color);\n",
              "    }\n",
              "    20% {\n",
              "      border-color: transparent;\n",
              "      border-left-color: var(--fill-color);\n",
              "      border-top-color: var(--fill-color);\n",
              "    }\n",
              "    30% {\n",
              "      border-color: transparent;\n",
              "      border-left-color: var(--fill-color);\n",
              "      border-top-color: var(--fill-color);\n",
              "      border-right-color: var(--fill-color);\n",
              "    }\n",
              "    40% {\n",
              "      border-color: transparent;\n",
              "      border-right-color: var(--fill-color);\n",
              "      border-top-color: var(--fill-color);\n",
              "    }\n",
              "    60% {\n",
              "      border-color: transparent;\n",
              "      border-right-color: var(--fill-color);\n",
              "    }\n",
              "    80% {\n",
              "      border-color: transparent;\n",
              "      border-right-color: var(--fill-color);\n",
              "      border-bottom-color: var(--fill-color);\n",
              "    }\n",
              "    90% {\n",
              "      border-color: transparent;\n",
              "      border-bottom-color: var(--fill-color);\n",
              "    }\n",
              "  }\n",
              "</style>\n",
              "\n",
              "  <script>\n",
              "    async function quickchart(key) {\n",
              "      const quickchartButtonEl =\n",
              "        document.querySelector('#' + key + ' button');\n",
              "      quickchartButtonEl.disabled = true;  // To prevent multiple clicks.\n",
              "      quickchartButtonEl.classList.add('colab-df-spinner');\n",
              "      try {\n",
              "        const charts = await google.colab.kernel.invokeFunction(\n",
              "            'suggestCharts', [key], {});\n",
              "      } catch (error) {\n",
              "        console.error('Error during call to suggestCharts:', error);\n",
              "      }\n",
              "      quickchartButtonEl.classList.remove('colab-df-spinner');\n",
              "      quickchartButtonEl.classList.add('colab-df-quickchart-complete');\n",
              "    }\n",
              "    (() => {\n",
              "      let quickchartButtonEl =\n",
              "        document.querySelector('#df-7b0c1fb7-5ed2-408e-b30e-feae9a379d24 button');\n",
              "      quickchartButtonEl.style.display =\n",
              "        google.colab.kernel.accessAllowed ? 'block' : 'none';\n",
              "    })();\n",
              "  </script>\n",
              "</div>\n",
              "\n",
              "  <div id=\"id_d8a9ea35-713d-4f2b-aa2f-7d82e351af6e\">\n",
              "    <style>\n",
              "      .colab-df-generate {\n",
              "        background-color: #E8F0FE;\n",
              "        border: none;\n",
              "        border-radius: 50%;\n",
              "        cursor: pointer;\n",
              "        display: none;\n",
              "        fill: #1967D2;\n",
              "        height: 32px;\n",
              "        padding: 0 0 0 0;\n",
              "        width: 32px;\n",
              "      }\n",
              "\n",
              "      .colab-df-generate:hover {\n",
              "        background-color: #E2EBFA;\n",
              "        box-shadow: 0px 1px 2px rgba(60, 64, 67, 0.3), 0px 1px 3px 1px rgba(60, 64, 67, 0.15);\n",
              "        fill: #174EA6;\n",
              "      }\n",
              "\n",
              "      [theme=dark] .colab-df-generate {\n",
              "        background-color: #3B4455;\n",
              "        fill: #D2E3FC;\n",
              "      }\n",
              "\n",
              "      [theme=dark] .colab-df-generate:hover {\n",
              "        background-color: #434B5C;\n",
              "        box-shadow: 0px 1px 3px 1px rgba(0, 0, 0, 0.15);\n",
              "        filter: drop-shadow(0px 1px 2px rgba(0, 0, 0, 0.3));\n",
              "        fill: #FFFFFF;\n",
              "      }\n",
              "    </style>\n",
              "    <button class=\"colab-df-generate\" onclick=\"generateWithVariable('df')\"\n",
              "            title=\"Generate code using this dataframe.\"\n",
              "            style=\"display:none;\">\n",
              "\n",
              "  <svg xmlns=\"http://www.w3.org/2000/svg\" height=\"24px\"viewBox=\"0 0 24 24\"\n",
              "       width=\"24px\">\n",
              "    <path d=\"M7,19H8.4L18.45,9,17,7.55,7,17.6ZM5,21V16.75L18.45,3.32a2,2,0,0,1,2.83,0l1.4,1.43a1.91,1.91,0,0,1,.58,1.4,1.91,1.91,0,0,1-.58,1.4L9.25,21ZM18.45,9,17,7.55Zm-12,3A5.31,5.31,0,0,0,4.9,8.1,5.31,5.31,0,0,0,1,6.5,5.31,5.31,0,0,0,4.9,4.9,5.31,5.31,0,0,0,6.5,1,5.31,5.31,0,0,0,8.1,4.9,5.31,5.31,0,0,0,12,6.5,5.46,5.46,0,0,0,6.5,12Z\"/>\n",
              "  </svg>\n",
              "    </button>\n",
              "    <script>\n",
              "      (() => {\n",
              "      const buttonEl =\n",
              "        document.querySelector('#id_d8a9ea35-713d-4f2b-aa2f-7d82e351af6e button.colab-df-generate');\n",
              "      buttonEl.style.display =\n",
              "        google.colab.kernel.accessAllowed ? 'block' : 'none';\n",
              "\n",
              "      buttonEl.onclick = () => {\n",
              "        google.colab.notebook.generateWithVariable('df');\n",
              "      }\n",
              "      })();\n",
              "    </script>\n",
              "  </div>\n",
              "\n",
              "    </div>\n",
              "  </div>\n"
            ],
            "application/vnd.google.colaboratory.intrinsic+json": {
              "type": "dataframe",
              "variable_name": "df"
            }
          },
          "metadata": {},
          "execution_count": 3
        }
      ]
    },
    {
      "cell_type": "code",
      "source": [
        "X = df.iloc[:, 1:-1]\n",
        "y = df.iloc[:, -1]"
      ],
      "metadata": {
        "id": "8Npw2iIZ36-Z"
      },
      "execution_count": null,
      "outputs": []
    },
    {
      "cell_type": "code",
      "source": [
        "X_train, X_test, y_train, y_test = train_test_split(X, y, test_size=0.2, random_state=42)"
      ],
      "metadata": {
        "id": "1pqXenaP367u"
      },
      "execution_count": null,
      "outputs": []
    },
    {
      "cell_type": "markdown",
      "source": [
        "Random Forest"
      ],
      "metadata": {
        "id": "d8SgBNKW9e6u"
      }
    },
    {
      "cell_type": "code",
      "source": [
        "clf = RandomForestClassifier(n_estimators=100, random_state=42)"
      ],
      "metadata": {
        "id": "qYGW_Sbt3641"
      },
      "execution_count": null,
      "outputs": []
    },
    {
      "cell_type": "code",
      "source": [
        "clf.fit(X_train, y_train)\n",
        "y_pred = clf.predict(X_test)"
      ],
      "metadata": {
        "id": "_6DQuADM362u"
      },
      "execution_count": null,
      "outputs": []
    },
    {
      "cell_type": "code",
      "source": [
        "accuracy = accuracy_score(y_test, y_pred)\n",
        "print(f'Accuracy: {accuracy:.4f}')\n",
        "print('Classification Report:')\n",
        "print(classification_report(y_test, y_pred))"
      ],
      "metadata": {
        "colab": {
          "base_uri": "https://localhost:8080/"
        },
        "id": "PBEACdgN360A",
        "outputId": "7b8f72fd-b6a6-43c0-b3df-0d67512e78e3"
      },
      "execution_count": null,
      "outputs": [
        {
          "output_type": "stream",
          "name": "stdout",
          "text": [
            "Accuracy: 0.9919\n",
            "Classification Report:\n",
            "              precision    recall  f1-score   support\n",
            "\n",
            "        fake       0.99      0.99      0.99      7038\n",
            "        real       0.99      0.99      0.99      6822\n",
            "\n",
            "    accuracy                           0.99     13860\n",
            "   macro avg       0.99      0.99      0.99     13860\n",
            "weighted avg       0.99      0.99      0.99     13860\n",
            "\n"
          ]
        }
      ]
    },
    {
      "cell_type": "markdown",
      "source": [
        "Gradient Boosting"
      ],
      "metadata": {
        "id": "eKJZrEvt9hQ5"
      }
    },
    {
      "cell_type": "code",
      "source": [
        "gb_clf = GradientBoostingClassifier(n_estimators=100, random_state=42)"
      ],
      "metadata": {
        "id": "o8ieanaf36xB"
      },
      "execution_count": null,
      "outputs": []
    },
    {
      "cell_type": "code",
      "source": [
        "gb_clf.fit(X_train, y_train)\n",
        "y_pred_gb = gb_clf.predict(X_test)"
      ],
      "metadata": {
        "id": "vmDPssX936uX"
      },
      "execution_count": null,
      "outputs": []
    },
    {
      "cell_type": "code",
      "source": [
        "accuracy_gb = accuracy_score(y_test, y_pred_gb)\n",
        "print(f'Gradient Boosting Accuracy: {accuracy_gb:.4f}')\n",
        "print('Gradient Boosting Classification Report:')\n",
        "print(classification_report(y_test, y_pred_gb))"
      ],
      "metadata": {
        "id": "Lsl_jVoY36rp",
        "colab": {
          "base_uri": "https://localhost:8080/"
        },
        "outputId": "0a1fb92a-569c-4eae-98e5-3245d75ba022"
      },
      "execution_count": null,
      "outputs": [
        {
          "output_type": "stream",
          "name": "stdout",
          "text": [
            "Gradient Boosting Accuracy: 0.9663\n",
            "Gradient Boosting Classification Report:\n",
            "              precision    recall  f1-score   support\n",
            "\n",
            "        fake       0.97      0.97      0.97      7038\n",
            "        real       0.97      0.97      0.97      6822\n",
            "\n",
            "    accuracy                           0.97     13860\n",
            "   macro avg       0.97      0.97      0.97     13860\n",
            "weighted avg       0.97      0.97      0.97     13860\n",
            "\n"
          ]
        }
      ]
    },
    {
      "cell_type": "markdown",
      "source": [
        "Adaboost"
      ],
      "metadata": {
        "id": "Gc7fc9_R9jNX"
      }
    },
    {
      "cell_type": "code",
      "source": [
        "ada_clf = AdaBoostClassifier(n_estimators=100, random_state=42)"
      ],
      "metadata": {
        "id": "6DIBGgWV36ox"
      },
      "execution_count": null,
      "outputs": []
    },
    {
      "cell_type": "code",
      "source": [
        "ada_clf.fit(X_train, y_train)\n",
        "y_pred_ada = ada_clf.predict(X_test)"
      ],
      "metadata": {
        "id": "4xFR8a0N36mH"
      },
      "execution_count": null,
      "outputs": []
    },
    {
      "cell_type": "code",
      "source": [
        "accuracy_ada = accuracy_score(y_test, y_pred_ada)\n",
        "print(f'AdaBoost Accuracy: {accuracy_ada:.4f}')\n",
        "print('AdaBoost Classification Report:')\n",
        "print(classification_report(y_test, y_pred_ada))"
      ],
      "metadata": {
        "colab": {
          "base_uri": "https://localhost:8080/"
        },
        "id": "lrVnotMq-D9s",
        "outputId": "a3d6e573-013b-4eae-c4f6-909e05d4a4b5"
      },
      "execution_count": null,
      "outputs": [
        {
          "output_type": "stream",
          "name": "stdout",
          "text": [
            "AdaBoost Accuracy: 0.9336\n",
            "AdaBoost Classification Report:\n",
            "              precision    recall  f1-score   support\n",
            "\n",
            "        fake       0.94      0.93      0.93      7038\n",
            "        real       0.93      0.93      0.93      6822\n",
            "\n",
            "    accuracy                           0.93     13860\n",
            "   macro avg       0.93      0.93      0.93     13860\n",
            "weighted avg       0.93      0.93      0.93     13860\n",
            "\n"
          ]
        }
      ]
    },
    {
      "cell_type": "markdown",
      "source": [
        "XGBoost"
      ],
      "metadata": {
        "id": "6u-vBmE6-Jrz"
      }
    },
    {
      "cell_type": "code",
      "source": [
        "label_encoder = LabelEncoder()\n",
        "y_encoded = label_encoder.fit_transform(y)"
      ],
      "metadata": {
        "id": "d5vaG_ff-ewo"
      },
      "execution_count": null,
      "outputs": []
    },
    {
      "cell_type": "code",
      "source": [
        "X_trainxg, X_testxg, y_trainxg, y_testxg = train_test_split(X, y_encoded, test_size=0.2, random_state=42)"
      ],
      "metadata": {
        "id": "2N_lPPRH-q-6"
      },
      "execution_count": null,
      "outputs": []
    },
    {
      "cell_type": "code",
      "source": [
        "xgb_clf = XGBClassifier(n_estimators=100, random_state=42, use_label_encoder=False, eval_metric='logloss')"
      ],
      "metadata": {
        "id": "vGUaWnWn-D6U"
      },
      "execution_count": null,
      "outputs": []
    },
    {
      "cell_type": "code",
      "source": [
        "xgb_clf.fit(X_trainxg, y_trainxg)\n",
        "y_pred_xgb = xgb_clf.predict(X_testxg)"
      ],
      "metadata": {
        "id": "XyoaIPWi-D4V"
      },
      "execution_count": null,
      "outputs": []
    },
    {
      "cell_type": "code",
      "source": [
        "accuracy_xgb = accuracy_score(y_test, y_pred_xgb)\n",
        "print(f'XGBoost Accuracy: {accuracy_xgb:.4f}')\n",
        "print('XGBoost Classification Report:')\n",
        "print(classification_report(y_test, y_pred_xgb, target_names=label_encoder.classes_))"
      ],
      "metadata": {
        "colab": {
          "base_uri": "https://localhost:8080/"
        },
        "id": "eRh6rDft-D1k",
        "outputId": "f5775bf4-49fb-4562-8a89-2b22c95a4d65"
      },
      "execution_count": null,
      "outputs": [
        {
          "output_type": "stream",
          "name": "stdout",
          "text": [
            "XGBoost Accuracy: 0.9962\n",
            "XGBoost Classification Report:\n",
            "              precision    recall  f1-score   support\n",
            "\n",
            "        fake       1.00      1.00      1.00      7038\n",
            "        real       1.00      1.00      1.00      6822\n",
            "\n",
            "    accuracy                           1.00     13860\n",
            "   macro avg       1.00      1.00      1.00     13860\n",
            "weighted avg       1.00      1.00      1.00     13860\n",
            "\n"
          ]
        }
      ]
    },
    {
      "cell_type": "code",
      "source": [
        "y_pred_xgb_train = xgb_clf.predict(X_train)\n",
        "accuracy_xgb_train = accuracy_score(y_train, y_pred_xgb_train)\n",
        "print(f'XGBoost Train Accuracy: {accuracy_xgb_train:.4f}')\n",
        "print('XGBoost Train Classification Report:')\n",
        "print(classification_report(y_train, y_pred_xgb_train, target_names=label_encoder.classes_))"
      ],
      "metadata": {
        "colab": {
          "base_uri": "https://localhost:8080/"
        },
        "id": "z6O7018O-Dyj",
        "outputId": "2d02c639-f92d-4805-dd86-30db5fbb6dad"
      },
      "execution_count": null,
      "outputs": [
        {
          "output_type": "stream",
          "name": "stdout",
          "text": [
            "XGBoost Train Accuracy: 1.0000\n",
            "XGBoost Train Classification Report:\n",
            "              precision    recall  f1-score   support\n",
            "\n",
            "        fake       1.00      1.00      1.00     27657\n",
            "        real       1.00      1.00      1.00     27781\n",
            "\n",
            "    accuracy                           1.00     55438\n",
            "   macro avg       1.00      1.00      1.00     55438\n",
            "weighted avg       1.00      1.00      1.00     55438\n",
            "\n"
          ]
        }
      ]
    }
  ]
}